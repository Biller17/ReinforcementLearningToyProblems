{
 "cells": [
  {
   "cell_type": "code",
   "execution_count": 1,
   "metadata": {},
   "outputs": [],
   "source": [
    "import random\n",
    "import math\n",
    "import numpy as np\n",
    "from random import gauss\n",
    "import matplotlib.pyplot as plt"
   ]
  },
  {
   "cell_type": "code",
   "execution_count": 2,
   "metadata": {},
   "outputs": [],
   "source": [
    "class Arm:\n",
    "    def __init__(self, mean, variance):\n",
    "        self.mean = mean\n",
    "        self.variance = variance\n",
    "\n",
    "    def get_reward(self):\n",
    "        return np.random.normal(self.mean, self.variance, 1)"
   ]
  },
  {
   "cell_type": "code",
   "execution_count": 3,
   "metadata": {},
   "outputs": [],
   "source": [
    "def generate_arms(n, means):\n",
    "    arms = []\n",
    "    variance = 1\n",
    "    for i in range(n):\n",
    "        arms.append(Arm(means[i], variance))\n",
    "    return arms"
   ]
  },
  {
   "cell_type": "code",
   "execution_count": 4,
   "metadata": {},
   "outputs": [],
   "source": [
    "def k_armed_bandit(mean_list, iterations, alpha):\n",
    "    n = len(mean_list)\n",
    "    arms = generate_arms(n, mean_list)\n",
    "    utilities = np.array([0.0] * n)\n",
    "    ns = np.array([0] * n)\n",
    "    epsilon = 0.1\n",
    "    epsilon_decay = 0.1\n",
    "    reward_list = []\n",
    "    reward_means = []\n",
    "    for i in range(iterations):\n",
    "        if random.random() < epsilon:\n",
    "            action = random.randint(0, n - 1)\n",
    "        else:\n",
    "            action = np.argmax(utilities) \n",
    "        reward = arms[action].get_reward()\n",
    "        if ns[action] == 0:\n",
    "            utilities[action] = reward\n",
    "        ns[action] += 1\n",
    "        utilities[action] = alpha * utilities[action] + (reward - utilities[action])/ns[action]\n",
    "        reward_list.append(reward)\n",
    "        reward_means.append(np.sum(reward_list)/i+1)\n",
    "    for i in range(len(utilities)):\n",
    "        print(utilities[i], \":\", mean_list[i])\n",
    "    plt.plot(reward_means)\n",
    "    plt.title('E-greedy capped to 10%')\n",
    "    plt.ylabel('Rewards')\n",
    "    plt.show()\n",
    "        \n"
   ]
  },
  {
   "cell_type": "code",
   "execution_count": 5,
   "metadata": {},
   "outputs": [],
   "source": [
    "def egreedy_armed_bandit(mean_list, iterations, alpha):\n",
    "    n = len(mean_list)\n",
    "    arms = generate_arms(n, mean_list)\n",
    "    utilities = np.array([0.0] * n)\n",
    "    ns = np.array([0] * n)\n",
    "    epsilon = 0.9997\n",
    "    epsilon_decay = 0.4\n",
    "    reward_list = []\n",
    "    reward_means = []\n",
    "    for i in range(iterations):\n",
    "        if random.random() < epsilon:\n",
    "            action = random.randint(0, n-1)\n",
    "        else:\n",
    "            action = np.argmax(utilities) \n",
    "        reward = arms[action].get_reward()\n",
    "        if ns[action] == 0:\n",
    "            utilities[action] = reward\n",
    "        ns[action] += 1\n",
    "        utilities[action] = alpha * utilities[action] + (reward - utilities[action])/ns[action]\n",
    "        epsilon = max(1 - (0.0001 * np.sum(i)), 0.00)\n",
    "        reward_list.append(reward)\n",
    "        reward_means.append(np.sum(reward_list)/i+1)\n",
    "    for i in range(len(utilities)):\n",
    "        print(utilities[i], \":\", mean_list[i])\n",
    "    plt.plot(reward_means)\n",
    "    plt.title('E-greedy')\n",
    "    plt.ylabel('Rewards')\n",
    "    plt.show()"
   ]
  },
  {
   "cell_type": "code",
   "execution_count": 6,
   "metadata": {},
   "outputs": [],
   "source": [
    "def optimistic_greedy(mean_list, iterations, alpha):\n",
    "    n = len(mean_list)\n",
    "    arms = generate_arms(n, mean_list)\n",
    "    utilities = np.array([10.0] * n)\n",
    "    ns = np.array([0] * n)\n",
    "    epsilon = 0\n",
    "    reward_list = []\n",
    "    reward_means = []\n",
    "    for i in range(iterations):\n",
    "        action = np.argmax(utilities)\n",
    "        reward = arms[action].get_reward()\n",
    "        if ns[action] == 0:\n",
    "            utilities[action] = reward\n",
    "        ns[action] += 1\n",
    "        utilities[action] =  alpha * utilities[action] + (reward - utilities[action])/ns[action]\n",
    "        reward_list.append(reward)\n",
    "        reward_means.append(np.sum(reward_list)/i+1)\n",
    "    for i in range(len(utilities)):\n",
    "        print(utilities[i], \":\", mean_list[i])\n",
    "    plt.plot(reward_means)\n",
    "    plt.title('Optimistic greedy')\n",
    "    plt.ylabel('Rewards')\n",
    "    plt.show()"
   ]
  },
  {
   "cell_type": "code",
   "execution_count": 7,
   "metadata": {},
   "outputs": [],
   "source": [
    "def upper_confidence_bound(mean_list, iterations, alpha):\n",
    "    n = len(mean_list)\n",
    "    arms = generate_arms(n, mean_list)\n",
    "    utilities = np.array([0.0] * n)\n",
    "    ns = np.array([0.0] * n)\n",
    "    epsilon = 0\n",
    "    c = 2\n",
    "    reward_list = []\n",
    "    reward_means = []\n",
    "    for i in range(iterations):\n",
    "        ucb_utilities = np.copy(utilities)\n",
    "        for j in range(len(ucb_utilities)):\n",
    "            ucb_utilities[j] += c * math.sqrt(math.log(i + 1)/ns[j])\n",
    "        action = np.argmax(ucb_utilities)\n",
    "        reward = arms[action].get_reward()\n",
    "        if ns[action] == 0:\n",
    "            utilities[action] = reward\n",
    "        ns[action] += 1\n",
    "        utilities[action] =  alpha * utilities[action] + (reward - utilities[action])/ns[action]\n",
    "        reward_list.append(reward)\n",
    "        reward_means.append(np.sum(reward_list)/i+1)\n",
    "    for i in range(len(utilities)):\n",
    "        print(utilities[i], \":\", mean_list[i])\n",
    "    plt.plot(reward_means)\n",
    "    plt.title('Upper confidence bound')\n",
    "    plt.ylabel('Rewards')\n",
    "    plt.show()"
   ]
  },
  {
   "cell_type": "code",
   "execution_count": 8,
   "metadata": {},
   "outputs": [
    {
     "name": "stdout",
     "output_type": "stream",
     "text": [
      "Normal k - armed bandit\n"
     ]
    },
    {
     "name": "stderr",
     "output_type": "stream",
     "text": [
      "/anaconda3/lib/python3.7/site-packages/ipykernel_launcher.py:21: RuntimeWarning: divide by zero encountered in double_scalars\n"
     ]
    },
    {
     "name": "stdout",
     "output_type": "stream",
     "text": [
      "-0.104568736017141 : -1.8\n",
      "-0.12787937003541766 : -1\n",
      "-0.021738029343645916 : -0.2\n",
      "-0.017040206365107904 : 0.3\n",
      "-0.018891726193484636 : 0.8\n",
      "-0.008525165192518305 : 1\n",
      "-0.0015944724646462596 : 1.5\n",
      "0.005206356186315466 : 1.8\n",
      "-0.0021307635518977557 : 2.3\n",
      "-0.00708141090179569 : 0.5\n"
     ]
    },
    {
     "data": {
      "image/png": "[encoded data removed]",
      "text/plain": [
       "<Figure size 432x288 with 1 Axes>"
      ]
     },
     "metadata": {
      "needs_background": "light"
     },
     "output_type": "display_data"
    },
    {
     "name": "stdout",
     "output_type": "stream",
     "text": [
      "E greedy k - armed bandit\n"
     ]
    },
    {
     "name": "stderr",
     "output_type": "stream",
     "text": [
      "/anaconda3/lib/python3.7/site-packages/ipykernel_launcher.py:22: RuntimeWarning: divide by zero encountered in double_scalars\n"
     ]
    },
    {
     "name": "stdout",
     "output_type": "stream",
     "text": [
      "-0.03384477299886413 : -1.8\n",
      "-0.013032369687447755 : -1\n",
      "0.004923995436139146 : -0.2\n",
      "0.018449884103209007 : 0.3\n",
      "-0.0014531678075457544 : 0.8\n",
      "0.010794048056757523 : 1\n",
      "0.02702044728850779 : 1.5\n",
      "0.016105116154280914 : 1.8\n",
      "0.021027524764002905 : 2.3\n",
      "0.008579121581057416 : 0.5\n"
     ]
    },
    {
     "data": {
      "image/png": "[encoded data removed]",
      "text/plain": [
       "<Figure size 432x288 with 1 Axes>"
      ]
     },
     "metadata": {
      "needs_background": "light"
     },
     "output_type": "display_data"
    },
    {
     "name": "stdout",
     "output_type": "stream",
     "text": [
      "Optimistic k - armed bandit\n"
     ]
    },
    {
     "name": "stderr",
     "output_type": "stream",
     "text": [
      "/anaconda3/lib/python3.7/site-packages/ipykernel_launcher.py:17: RuntimeWarning: divide by zero encountered in double_scalars\n"
     ]
    },
    {
     "name": "stdout",
     "output_type": "stream",
     "text": [
      "-0.006644553883753733 : -1.8\n",
      "-0.0023390047346914166 : -1\n",
      "-1.0412457843945848 : -0.2\n",
      "-0.005302141631250411 : 0.3\n",
      "-0.1253652935563467 : 0.8\n",
      "-0.014185100094096487 : 1\n",
      "-0.3197305522874118 : 1.5\n",
      "-0.05059872203269407 : 1.8\n",
      "0.0005466070630116117 : 2.3\n",
      "-0.1775371907590587 : 0.5\n"
     ]
    },
    {
     "data": {
      "image/png": "[encoded data removed]",
      "text/plain": [
       "<Figure size 432x288 with 1 Axes>"
      ]
     },
     "metadata": {
      "needs_background": "light"
     },
     "output_type": "display_data"
    },
    {
     "name": "stdout",
     "output_type": "stream",
     "text": [
      "Upper confidente bound k - armed bandit\n"
     ]
    },
    {
     "name": "stderr",
     "output_type": "stream",
     "text": [
      "/anaconda3/lib/python3.7/site-packages/ipykernel_launcher.py:13: RuntimeWarning: invalid value encountered in double_scalars\n",
      "  del sys.path[0]\n",
      "/anaconda3/lib/python3.7/site-packages/ipykernel_launcher.py:13: RuntimeWarning: divide by zero encountered in double_scalars\n",
      "  del sys.path[0]\n"
     ]
    },
    {
     "name": "stdout",
     "output_type": "stream",
     "text": [
      "-0.02420795276891563 : -1.8\n",
      "-0.019816183152989757 : -1\n",
      "-0.004135425337254862 : -0.2\n",
      "-0.028683832628066095 : 0.3\n",
      "-0.0027555932376303045 : 0.8\n",
      "-0.018079785220600192 : 1\n",
      "0.0031898680435147155 : 1.5\n",
      "0.003336765594741345 : 1.8\n",
      "0.014905692134121502 : 2.3\n",
      "-0.00922389976979158 : 0.5\n"
     ]
    },
    {
     "data": {
      "image/png": "[encoded data removed]",
      "text/plain": [
       "<Figure size 432x288 with 1 Axes>"
      ]
     },
     "metadata": {
      "needs_background": "light"
     },
     "output_type": "display_data"
    }
   ],
   "source": [
    "if __name__ == \"__main__\":\n",
    "    mean_list = [-1.8, -1, -0.2, 0.3, 0.8, 1, 1.5, 1.8, 2.3, 0.5]\n",
    "    iterations = 1000\n",
    "    alpha = 0.003\n",
    "    print(\"Normal k - armed bandit\")\n",
    "    k_armed_bandit(mean_list, iterations, alpha)\n",
    "    print(\"E greedy k - armed bandit\")\n",
    "    egreedy_armed_bandit(mean_list, iterations, alpha)\n",
    "    print(\"Optimistic k - armed bandit\")\n",
    "    optimistic_greedy(mean_list, iterations, alpha)\n",
    "    print(\"Upper confidente bound k - armed bandit\")\n",
    "    upper_confidence_bound(mean_list, iterations, alpha)"
   ]
  },
  {
   "cell_type": "code",
   "execution_count": null,
   "metadata": {},
   "outputs": [],
   "source": []
  }
 ],
 "metadata": {
  "kernelspec": {
   "display_name": "Python 3",
   "language": "python",
   "name": "python3"
  },
  "language_info": {
   "codemirror_mode": {
    "name": "ipython",
    "version": 3
   },
   "file_extension": ".py",
   "mimetype": "text/x-python",
   "name": "python",
   "nbconvert_exporter": "python",
   "pygments_lexer": "ipython3",
   "version": "3.7.1"
  }
 },
 "nbformat": 4,
 "nbformat_minor": 2
}
